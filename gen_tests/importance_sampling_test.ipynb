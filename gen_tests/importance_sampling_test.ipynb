{
 "cells": [
  {
   "cell_type": "markdown",
   "metadata": {},
   "source": [
    "# Minimal Working Example for Importance Sampling with Gen"
   ]
  },
  {
   "cell_type": "code",
   "execution_count": null,
   "metadata": {},
   "outputs": [],
   "source": [
    "include(\"../convective_adjustment_utils.jl\")\n",
    "using Gen"
   ]
  },
  {
   "cell_type": "markdown",
   "metadata": {},
   "source": [
    "### Definition of the Initial Conditions & Global Parameters"
   ]
  },
  {
   "cell_type": "code",
   "execution_count": null,
   "metadata": {},
   "outputs": [],
   "source": [
    "grid = RegularGrid(Nz=32, Lz=128)\n",
    "const stop_time = 1800\n",
    "if USE_CPU\n",
    "    T0 = zeros(Float64, grid.Nz)\n",
    "else\n",
    "    T0 = CUDA.zeros(Float64, grid.Nz)\n",
    "end\n",
    "z = zᶜ(grid)\n",
    "temperature_gradient = 1e-4\n",
    "surface_flux = 1e-4\n",
    "T0 .= 20 .+ temperature_gradient .* z"
   ]
  },
  {
   "cell_type": "markdown",
   "metadata": {},
   "source": [
    "### Definition of Baseline Scientific Model, in this Case a Convective Adjustment Example"
   ]
  },
  {
   "cell_type": "code",
   "execution_count": null,
   "metadata": {},
   "outputs": [],
   "source": [
    "function model(grid, surface_flux, T, convective_diffusivity, background_diffusivity)\n",
    "    \n",
    "    # Calculate Δt & Nt\n",
    "    Δt = 0.2 * grid.Δz^2 / convective_diffusivity\n",
    "    Nt = ceil(Int, stop_time / Δt)\n",
    "\n",
    "    # Wrap into arrays for Enzyme\n",
    "    convective_diffusivity = adapt(typeof(T), [convective_diffusivity])\n",
    "    background_diffusivity = adapt(typeof(T), [background_diffusivity])\n",
    "\n",
    "    for _ in 2:Nt\n",
    "        T = convect!(T, grid, background_diffusivity, convective_diffusivity, surface_flux, Δt)\n",
    "    end\n",
    "    return T\n",
    "end"
   ]
  },
  {
   "cell_type": "markdown",
   "metadata": {},
   "source": [
    "### Construct the Generative Model on the Basis of the Baseline Model with Priors"
   ]
  },
  {
   "cell_type": "code",
   "execution_count": null,
   "metadata": {},
   "outputs": [],
   "source": [
    "@gen function convective_adjustment(grid, surface_flux, T)\n",
    "\n",
    "    # Construct priors (random debug priors for now)\n",
    "    convective_diffusivity = @trace(normal(10, 2), :convective_diffusivity)\n",
    "    background_diffusivity = @trace(normal(1e-4, 3e-5), :background_diffusivity)\n",
    "\n",
    "    # Do I need to genify this at this point?\n",
    "    model(grid, surface_flux, T, convective_diffusivity, background_diffusivity)\n",
    "end"
   ]
  },
  {
   "cell_type": "markdown",
   "metadata": {},
   "source": [
    "### Generate the Dataset\n",
    "\n",
    "Here we generate diversity in the dataset by varying the temperature gradient over which we place a normal prior to vary the start `T0`, hence inducing a further variation in the length of the simulation"
   ]
  },
  {
   "cell_type": "code",
   "execution_count": null,
   "metadata": {},
   "outputs": [],
   "source": [
    "function dataset_generation(datapoints::Int)\n",
    "\n",
    "    # Define local convective diffusivity & background diffusivity\n",
    "    local true_convective_diffusivity = 10\n",
    "    local true_background_diffusivity = 1e-4\n",
    "\n",
    "    # Vary T0 by sampling from a normal distribution over the temperature gradient\n",
    "    function sample_TStart()\n",
    "        T_start = 20 .+ normal(1e-4, 2e-4) .* z\n",
    "        return T_start\n",
    "    end\n",
    "    \n",
    "    # Generate the data with a list comprehension\n",
    "    test_data = [\n",
    "        model(grid, surface_flux, sample_TStart(), true_convective_diffusivity, true_background_diffusivity) for _ in 1:datapoints\n",
    "    ]\n",
    "    return test_data\n",
    "end"
   ]
  },
  {
   "cell_type": "markdown",
   "metadata": {},
   "source": [
    "After which we can freely select the number of datapoints we seek to generate, `500` is a choice of convenience for the time being."
   ]
  },
  {
   "cell_type": "code",
   "execution_count": null,
   "metadata": {},
   "outputs": [],
   "source": [
    "ys = dataset_generation(500)"
   ]
  },
  {
   "cell_type": "markdown",
   "metadata": {},
   "source": [
    "### Inference Program\n",
    "\n",
    "We construct an inference program to perform [importance resampling](https://www.gen.dev/dev/ref/importance/) on the convective adjustment model. The dataset is taken as an input, on which a [choice-map](https://www.gen.dev/dev/ref/choice_maps/) is constructed by Gen. The inputs to the generative model are abstracted as `xs` in line with Gen's own nomenclature for convenience. The inference routine produces a [trace](https://www.gen.dev/dev/ref/gfi/#Traces-1), whose address space can later on be examined.\n",
    "\n",
    "> An execution trace (or just trace) is a record of an execution of a generative function. Traces are the primary data structures manipulated by Gen inference programs."
   ]
  },
  {
   "cell_type": "code",
   "execution_count": null,
   "metadata": {},
   "outputs": [],
   "source": [
    "function importance_sampling_inference(model, grid, surface_flux, T, ys, amount_of_computation)\n",
    "\n",
    "    # Create the choice map to model addresses to observed\n",
    "    # values ys[i]\n",
    "    observations = Gen.choicemap()\n",
    "    for (i, y) in enumerate(ys)\n",
    "        observations[(:y, i)] = y\n",
    "    end\n",
    "\n",
    "    # In line with Gen's nomenclature we write our inputs as xs\n",
    "    xs = (grid, surface_flux, T)\n",
    "\n",
    "    # Perform importance sampling to find the most likely simulation trace\n",
    "    # consistent with our observations\n",
    "    (trace, _) = Gen.importance_resampling(model, xs, observations, amount_of_computation)\n",
    "    return trace\n",
    "end"
   ]
  },
  {
   "cell_type": "markdown",
   "metadata": {},
   "source": [
    "With which we can then run the inference routine. The chosen amount of computation is once again a completely arbitrary choice."
   ]
  },
  {
   "cell_type": "code",
   "execution_count": null,
   "metadata": {},
   "outputs": [],
   "source": [
    "trace = importance_sampling_inference(convective_adjustment, grid, surface_flux, T0, ys, 200)"
   ]
  },
  {
   "cell_type": "markdown",
   "metadata": {},
   "source": [
    "### Analysis of the Trace\n",
    "\n",
    "tbd..."
   ]
  },
  {
   "cell_type": "code",
   "execution_count": null,
   "metadata": {},
   "outputs": [],
   "source": []
  }
 ],
 "metadata": {
  "kernelspec": {
   "display_name": "Julia 1.5.3",
   "language": "julia",
   "name": "julia-1.5"
  }
 },
 "nbformat": 4,
 "nbformat_minor": 4
}
